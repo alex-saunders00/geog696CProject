{
 "cells": [
  {
   "cell_type": "markdown",
   "id": "a8b3dd4f-6c86-456a-b7c2-a73985a91ec2",
   "metadata": {
    "tags": []
   },
   "source": [
    "# GEOG696C Spatiotemporal Data Analytics: Term Project\n",
    "## extractPrecipTimeSeries.ipynb\n",
    "This script extracts time series of precipitation per pixel from the CHIRPS dataset, via Google Earth Engine."
   ]
  },
  {
   "cell_type": "code",
   "execution_count": null,
   "id": "4525d758-c1c0-4203-b478-0f71b1222985",
   "metadata": {},
   "outputs": [],
   "source": []
  },
  {
   "cell_type": "code",
   "execution_count": 125,
   "id": "89b5fc22-8f3a-4e36-99b0-8c2240b04ad5",
   "metadata": {},
   "outputs": [],
   "source": [
    "from pathlib import Path\n",
    "import os\n",
    "import sys\n",
    "import pandas as pd\n",
    "# import geopandas as gpd\n",
    "import numpy as np\n",
    "import rasterio as rio\n",
    "from rasterio.plot import show\n",
    "from rasterio.mask import mask\n",
    "# import rioxarray\n",
    "# import xarray\n",
    "# from shapely.geometry import Polygon\n",
    "# from shapely.geometry import Point\n",
    "# import matplotlib.pyplot as plt\n",
    "# from itertools import chain\n",
    "from datetime import datetime, timezone, timedelta"
   ]
  },
  {
   "cell_type": "code",
   "execution_count": 22,
   "id": "e090b766-cc0a-4cdc-8361-29e63c1f419b",
   "metadata": {},
   "outputs": [],
   "source": [
    "# Set the root path\n",
    "# rootPath = Path('/media/mule/Projects/NASA/NIP/Data')\n",
    "rootPath = Path('C:/Users/alexsaunders/Documents/01_uoa/01_study/2023/geog696c/project/data')"
   ]
  },
  {
   "cell_type": "code",
   "execution_count": 4,
   "id": "719adfb7-d752-4d6e-ac70-2fdd7abc9e69",
   "metadata": {},
   "outputs": [],
   "source": [
    "import ee"
   ]
  },
  {
   "cell_type": "code",
   "execution_count": 5,
   "id": "c21192c6-d5f1-4d11-ae4d-ccfb0d42ebde",
   "metadata": {},
   "outputs": [
    {
     "data": {
      "text/html": [
       "<p>To authorize access needed by Earth Engine, open the following\n",
       "        URL in a web browser and follow the instructions:</p>\n",
       "        <p><a href=https://code.earthengine.google.com/client-auth?scopes=https%3A//www.googleapis.com/auth/earthengine%20https%3A//www.googleapis.com/auth/devstorage.full_control&request_id=vc5BubEu_96u-AmFWpv-x_ZjviTAqBdzQgOjRVWNsbo&tc=e94Vt7MN5rT_edGrzOl3QZL7rrH22myBYGqeNY_-gUI&cc=ESRmVCEhK3DzcdXkCsaDGMib2r2692bSpmbbKKC0vQc>https://code.earthengine.google.com/client-auth?scopes=https%3A//www.googleapis.com/auth/earthengine%20https%3A//www.googleapis.com/auth/devstorage.full_control&request_id=vc5BubEu_96u-AmFWpv-x_ZjviTAqBdzQgOjRVWNsbo&tc=e94Vt7MN5rT_edGrzOl3QZL7rrH22myBYGqeNY_-gUI&cc=ESRmVCEhK3DzcdXkCsaDGMib2r2692bSpmbbKKC0vQc</a></p>\n",
       "        <p>The authorization workflow will generate a code, which you should paste in the box below.</p>\n",
       "        "
      ],
      "text/plain": [
       "<IPython.core.display.HTML object>"
      ]
     },
     "metadata": {},
     "output_type": "display_data"
    },
    {
     "name": "stdin",
     "output_type": "stream",
     "text": [
      "Enter verification code:  4/1AfJohXmhves3bz_I47CM0Xf5ASXnsRPL5gaP3-xAAk7ArIgD2rlqovqDrGI\n"
     ]
    },
    {
     "name": "stdout",
     "output_type": "stream",
     "text": [
      "\n",
      "Successfully saved authorization token.\n"
     ]
    }
   ],
   "source": [
    "ee.Authenticate()"
   ]
  },
  {
   "cell_type": "code",
   "execution_count": 6,
   "id": "ccf1bff6-57ef-4863-bd07-83e387e883e4",
   "metadata": {},
   "outputs": [],
   "source": [
    "ee.Initialize()"
   ]
  },
  {
   "cell_type": "markdown",
   "id": "f0dd526d-cb9f-40b6-86b1-e2a4b2d2e2e3",
   "metadata": {
    "tags": []
   },
   "source": [
    "## 1) Get the CHIRPS Pentad (i.e. 5-day) data"
   ]
  },
  {
   "cell_type": "code",
   "execution_count": 186,
   "id": "ed36d19e-8473-4612-8317-32ea7c2d629e",
   "metadata": {},
   "outputs": [],
   "source": [
    "# Define region of interest (ROI)\n",
    "roi = ee.FeatureCollection('projects/ee-nip/assets/BangladeshBB')"
   ]
  },
  {
   "cell_type": "code",
   "execution_count": 187,
   "id": "4f6b003c-300f-4305-85c9-2404d2ef1e9f",
   "metadata": {},
   "outputs": [],
   "source": [
    "\n",
    "# dates = pd.date_range(startDate, endDate, freq='5D')"
   ]
  },
  {
   "cell_type": "code",
   "execution_count": 188,
   "id": "d8d88367-f466-460c-b05d-fbe8f8db1532",
   "metadata": {},
   "outputs": [
    {
     "data": {
      "text/plain": [
       "DatetimeIndex(['2001-01-01', '2001-01-06', '2001-01-11', '2001-01-16',\n",
       "               '2001-01-21', '2001-01-26', '2001-01-31', '2001-02-05',\n",
       "               '2001-02-10', '2001-02-15',\n",
       "               ...\n",
       "               '2022-11-17', '2022-11-22', '2022-11-27', '2022-12-02',\n",
       "               '2022-12-07', '2022-12-12', '2022-12-17', '2022-12-22',\n",
       "               '2022-12-27', '2023-01-01'],\n",
       "              dtype='datetime64[ns]', length=1608, freq='5D')"
      ]
     },
     "execution_count": 188,
     "metadata": {},
     "output_type": "execute_result"
    }
   ],
   "source": [
    "dates"
   ]
  },
  {
   "cell_type": "code",
   "execution_count": 189,
   "id": "22c19b1c-3e61-4647-98bf-dda7b65d17c0",
   "metadata": {},
   "outputs": [],
   "source": [
    "# Calculate time series on pentad data\n",
    "\n",
    "# Get pentad data for dates and roi\n",
    "chirps = ee.ImageCollection('UCSB-CHG/CHIRPS/PENTAD')\n",
    "scale = 5566 # 0.5 degs\n",
    "\n",
    "# Get filtered image collection\n",
    "startDate = '2001-01-01'\n",
    "endDate = '2023-01-01'\n",
    "filtered = chirps.filter(ee.Filter.date(startDate, endDate)).filterBounds(roi)\n",
    "\n",
    "# Image properties - dates\n",
    "dateTime = np.array(filtered.aggregate_array('system:time_start').getInfo())\n",
    "month = np.array(filtered.aggregate_array('month').getInfo())\n",
    "pentad = np.array(filtered.aggregate_array('pentad').getInfo())\n",
    "\n",
    "# Get the geometry (same for all images)\n",
    "img = filtered.first()\n",
    "fc = img.sample(region=roi, scale=scale, geometries=True)\n",
    "vals = fc.toList(fc.size()).getInfo() # list of dictionaries\n",
    "lons=[d['geometry']['coordinates'][0] for d in vals if 'geometry' in d]\n",
    "lats=[d['geometry']['coordinates'][1] for d in vals if 'geometry' in d]\n",
    "coords = pd.DataFrame(data=[lons, lats], index=['lat','lon']).T"
   ]
  },
  {
   "cell_type": "code",
   "execution_count": 190,
   "id": "9f272e8e-44f9-4b26-a110-3e3286ec6ca9",
   "metadata": {},
   "outputs": [
    {
     "data": {
      "text/html": [
       "<div>\n",
       "<style scoped>\n",
       "    .dataframe tbody tr th:only-of-type {\n",
       "        vertical-align: middle;\n",
       "    }\n",
       "\n",
       "    .dataframe tbody tr th {\n",
       "        vertical-align: top;\n",
       "    }\n",
       "\n",
       "    .dataframe thead th {\n",
       "        text-align: right;\n",
       "    }\n",
       "</style>\n",
       "<table border=\"1\" class=\"dataframe\">\n",
       "  <thead>\n",
       "    <tr style=\"text-align: right;\">\n",
       "      <th></th>\n",
       "      <th>lat</th>\n",
       "      <th>lon</th>\n",
       "    </tr>\n",
       "  </thead>\n",
       "  <tbody>\n",
       "    <tr>\n",
       "      <th>0</th>\n",
       "      <td>88.026226</td>\n",
       "      <td>26.624893</td>\n",
       "    </tr>\n",
       "    <tr>\n",
       "      <th>1</th>\n",
       "      <td>88.076226</td>\n",
       "      <td>26.624893</td>\n",
       "    </tr>\n",
       "    <tr>\n",
       "      <th>2</th>\n",
       "      <td>88.126226</td>\n",
       "      <td>26.624893</td>\n",
       "    </tr>\n",
       "    <tr>\n",
       "      <th>3</th>\n",
       "      <td>88.176227</td>\n",
       "      <td>26.624893</td>\n",
       "    </tr>\n",
       "    <tr>\n",
       "      <th>4</th>\n",
       "      <td>88.226227</td>\n",
       "      <td>26.624893</td>\n",
       "    </tr>\n",
       "    <tr>\n",
       "      <th>...</th>\n",
       "      <td>...</td>\n",
       "      <td>...</td>\n",
       "    </tr>\n",
       "    <tr>\n",
       "      <th>9312</th>\n",
       "      <td>92.426246</td>\n",
       "      <td>20.674866</td>\n",
       "    </tr>\n",
       "    <tr>\n",
       "      <th>9313</th>\n",
       "      <td>92.476246</td>\n",
       "      <td>20.674866</td>\n",
       "    </tr>\n",
       "    <tr>\n",
       "      <th>9314</th>\n",
       "      <td>92.526247</td>\n",
       "      <td>20.674866</td>\n",
       "    </tr>\n",
       "    <tr>\n",
       "      <th>9315</th>\n",
       "      <td>92.576247</td>\n",
       "      <td>20.674866</td>\n",
       "    </tr>\n",
       "    <tr>\n",
       "      <th>9316</th>\n",
       "      <td>92.626247</td>\n",
       "      <td>20.674866</td>\n",
       "    </tr>\n",
       "  </tbody>\n",
       "</table>\n",
       "<p>9317 rows × 2 columns</p>\n",
       "</div>"
      ],
      "text/plain": [
       "            lat        lon\n",
       "0     88.026226  26.624893\n",
       "1     88.076226  26.624893\n",
       "2     88.126226  26.624893\n",
       "3     88.176227  26.624893\n",
       "4     88.226227  26.624893\n",
       "...         ...        ...\n",
       "9312  92.426246  20.674866\n",
       "9313  92.476246  20.674866\n",
       "9314  92.526247  20.674866\n",
       "9315  92.576247  20.674866\n",
       "9316  92.626247  20.674866\n",
       "\n",
       "[9317 rows x 2 columns]"
      ]
     },
     "execution_count": 190,
     "metadata": {},
     "output_type": "execute_result"
    }
   ],
   "source": [
    "coords"
   ]
  },
  {
   "cell_type": "code",
   "execution_count": 192,
   "id": "0d584708-2401-436a-b14a-82554409c216",
   "metadata": {},
   "outputs": [],
   "source": [
    "dates = pd.to_datetime(dateTime, unit='ms')"
   ]
  },
  {
   "cell_type": "code",
   "execution_count": 193,
   "id": "36d8f479-037e-47e9-b265-e2d2063b6eb1",
   "metadata": {},
   "outputs": [
    {
     "data": {
      "text/plain": [
       "DatetimeIndex(['2001-01-01', '2001-01-06', '2001-01-11', '2001-01-16',\n",
       "               '2001-01-21', '2001-01-26', '2001-02-01', '2001-02-06',\n",
       "               '2001-02-11', '2001-02-16',\n",
       "               ...\n",
       "               '2022-11-11', '2022-11-16', '2022-11-21', '2022-11-26',\n",
       "               '2022-12-01', '2022-12-06', '2022-12-11', '2022-12-16',\n",
       "               '2022-12-21', '2022-12-26'],\n",
       "              dtype='datetime64[ns]', length=1584, freq=None)"
      ]
     },
     "execution_count": 193,
     "metadata": {},
     "output_type": "execute_result"
    }
   ],
   "source": [
    "dates"
   ]
  },
  {
   "cell_type": "code",
   "execution_count": null,
   "id": "3b4c755a-3f19-40bd-b5dd-528d269641ca",
   "metadata": {},
   "outputs": [],
   "source": [
    "# Loop through in small time chunks and get and record precip value\n",
    "ntimes=len(dateTime)\n",
    "nlocs=len(coords)\n",
    "precipValsAllDates=np.zeros([ntimes, nlocs])\n",
    "for i, date in enumerate(dates): \n",
    "    start = ee.Date(date)\n",
    "    end = ee.Date(pd.to_datetime(date)+timedelta(days=2))\n",
    "    filtered = chirps.filter(ee.Filter.date(start, end)).filterBounds(roi)\n",
    "    \n",
    "    # Take the first image and process it\n",
    "    img = filtered.first()\n",
    "    fc = img.sample(region=roi, scale=scale, geometries=True)\n",
    "    vals = fc.toList(fc.size()).getInfo() # list of dictionaries\n",
    "\n",
    "    # Get the precip vals\n",
    "    precipVals = [d['properties']['precipitation'] for d in vals if 'properties' in d]\n",
    "    \n",
    "    # Save image values to array\n",
    "    precipValsAllDates[i,:] = precipVals"
   ]
  },
  {
   "cell_type": "code",
   "execution_count": null,
   "id": "a93174f5-8f08-4daa-a4a8-2e401d772bd6",
   "metadata": {},
   "outputs": [],
   "source": [
    "precipValsAllDates"
   ]
  }
 ],
 "metadata": {
  "kernelspec": {
   "display_name": "Python 3 (ipykernel)",
   "language": "python",
   "name": "python3"
  },
  "language_info": {
   "codemirror_mode": {
    "name": "ipython",
    "version": 3
   },
   "file_extension": ".py",
   "mimetype": "text/x-python",
   "name": "python",
   "nbconvert_exporter": "python",
   "pygments_lexer": "ipython3",
   "version": "3.8.13"
  }
 },
 "nbformat": 4,
 "nbformat_minor": 5
}
