{
 "cells": [
  {
   "cell_type": "markdown",
   "id": "a8b3dd4f-6c86-456a-b7c2-a73985a91ec2",
   "metadata": {
    "tags": []
   },
   "source": [
    "# GEOG696C Spatiotemporal Data Analytics: Term Project\n",
    "## extractPrecipTimeSeries.ipynb\n",
    "This script extracts time series of precipitation per pixel from the CHIRPS dataset, via Google Earth Engine."
   ]
  },
  {
   "cell_type": "code",
   "execution_count": null,
   "id": "4525d758-c1c0-4203-b478-0f71b1222985",
   "metadata": {},
   "outputs": [],
   "source": []
  },
  {
   "cell_type": "code",
   "execution_count": 1,
   "id": "89b5fc22-8f3a-4e36-99b0-8c2240b04ad5",
   "metadata": {},
   "outputs": [],
   "source": [
    "from pathlib import Path\n",
    "import os\n",
    "import sys\n",
    "import pandas as pd\n",
    "# import geopandas as gpd\n",
    "import numpy as np\n",
    "import rasterio as rio\n",
    "from rasterio.plot import show\n",
    "from rasterio.mask import mask\n",
    "# import rioxarray\n",
    "# import xarray\n",
    "# from shapely.geometry import Polygon\n",
    "# from shapely.geometry import Point\n",
    "# import matplotlib.pyplot as plt\n",
    "# from itertools import chain\n",
    "from datetime import datetime, timezone"
   ]
  },
  {
   "cell_type": "code",
   "execution_count": 22,
   "id": "e090b766-cc0a-4cdc-8361-29e63c1f419b",
   "metadata": {},
   "outputs": [],
   "source": [
    "# Set the root path\n",
    "# rootPath = Path('/media/mule/Projects/NASA/NIP/Data')\n",
    "rootPath = Path('C:/Users/alexsaunders/Documents/01_uoa/01_study/2023/geog696c/project/data')"
   ]
  },
  {
   "cell_type": "code",
   "execution_count": 4,
   "id": "719adfb7-d752-4d6e-ac70-2fdd7abc9e69",
   "metadata": {},
   "outputs": [],
   "source": [
    "import ee"
   ]
  },
  {
   "cell_type": "code",
   "execution_count": 5,
   "id": "c21192c6-d5f1-4d11-ae4d-ccfb0d42ebde",
   "metadata": {},
   "outputs": [
    {
     "data": {
      "text/html": [
       "<p>To authorize access needed by Earth Engine, open the following\n",
       "        URL in a web browser and follow the instructions:</p>\n",
       "        <p><a href=https://code.earthengine.google.com/client-auth?scopes=https%3A//www.googleapis.com/auth/earthengine%20https%3A//www.googleapis.com/auth/devstorage.full_control&request_id=vc5BubEu_96u-AmFWpv-x_ZjviTAqBdzQgOjRVWNsbo&tc=e94Vt7MN5rT_edGrzOl3QZL7rrH22myBYGqeNY_-gUI&cc=ESRmVCEhK3DzcdXkCsaDGMib2r2692bSpmbbKKC0vQc>https://code.earthengine.google.com/client-auth?scopes=https%3A//www.googleapis.com/auth/earthengine%20https%3A//www.googleapis.com/auth/devstorage.full_control&request_id=vc5BubEu_96u-AmFWpv-x_ZjviTAqBdzQgOjRVWNsbo&tc=e94Vt7MN5rT_edGrzOl3QZL7rrH22myBYGqeNY_-gUI&cc=ESRmVCEhK3DzcdXkCsaDGMib2r2692bSpmbbKKC0vQc</a></p>\n",
       "        <p>The authorization workflow will generate a code, which you should paste in the box below.</p>\n",
       "        "
      ],
      "text/plain": [
       "<IPython.core.display.HTML object>"
      ]
     },
     "metadata": {},
     "output_type": "display_data"
    },
    {
     "name": "stdin",
     "output_type": "stream",
     "text": [
      "Enter verification code:  4/1AfJohXmhves3bz_I47CM0Xf5ASXnsRPL5gaP3-xAAk7ArIgD2rlqovqDrGI\n"
     ]
    },
    {
     "name": "stdout",
     "output_type": "stream",
     "text": [
      "\n",
      "Successfully saved authorization token.\n"
     ]
    }
   ],
   "source": [
    "ee.Authenticate()"
   ]
  },
  {
   "cell_type": "code",
   "execution_count": 6,
   "id": "ccf1bff6-57ef-4863-bd07-83e387e883e4",
   "metadata": {},
   "outputs": [],
   "source": [
    "ee.Initialize()"
   ]
  },
  {
   "cell_type": "markdown",
   "id": "f0dd526d-cb9f-40b6-86b1-e2a4b2d2e2e3",
   "metadata": {
    "tags": []
   },
   "source": [
    "## 1) Get the CHIRPS Pentad (i.e. 5-day) data"
   ]
  },
  {
   "cell_type": "code",
   "execution_count": 7,
   "id": "ed36d19e-8473-4612-8317-32ea7c2d629e",
   "metadata": {},
   "outputs": [],
   "source": [
    "# Define region of interest (ROI)\n",
    "roi = ee.FeatureCollection('projects/ee-nip/assets/BangladeshBB')"
   ]
  },
  {
   "cell_type": "code",
   "execution_count": 9,
   "id": "22c19b1c-3e61-4647-98bf-dda7b65d17c0",
   "metadata": {},
   "outputs": [],
   "source": [
    "# Calculate time series on pentad data\n",
    "\n",
    "# Get pentad data for dates and roi\n",
    "chirps = ee.ImageCollection('UCSB-CHG/CHIRPS/PENTAD')\n",
    "startDate = ee.Date('2001-01-01')\n",
    "endDate = ee.Date('2023-01-01')\n",
    "filtered = chirps.filter(ee.Filter.date(startDate, endDate)).filterBounds(roi)"
   ]
  },
  {
   "cell_type": "code",
   "execution_count": 19,
   "id": "a8cb74e0-b560-4c22-a754-24cc44531b7c",
   "metadata": {},
   "outputs": [],
   "source": [
    "# Extract the values\n",
    "\n",
    "# Image properties\n",
    "dateTime = np.array(filtered.aggregate_array('system:time_start').getInfo())\n",
    "month = np.array(filtered.aggregate_array('month').getInfo())\n",
    "pentad = np.array(filtered.aggregate_array('pentad').getInfo())"
   ]
  },
  {
   "cell_type": "code",
   "execution_count": null,
   "id": "266bc862-d104-4bb1-b21f-fd3a73ec75eb",
   "metadata": {},
   "outputs": [],
   "source": [
    "# Image values\n",
    "# precip = np.array(filtered.aggregate_array('precipitation').getInfo())"
   ]
  },
  {
   "cell_type": "code",
   "execution_count": 18,
   "id": "f120aed4-74c9-447e-aa03-ca3e2dd64ea1",
   "metadata": {},
   "outputs": [
    {
     "data": {
      "text/plain": [
       "array([], dtype=float64)"
      ]
     },
     "execution_count": 18,
     "metadata": {},
     "output_type": "execute_result"
    }
   ],
   "source": [
    "precip"
   ]
  },
  {
   "cell_type": "code",
   "execution_count": 13,
   "id": "05140618-6346-4205-a2db-b46779a13010",
   "metadata": {},
   "outputs": [
    {
     "data": {
      "text/plain": [
       "1584"
      ]
     },
     "execution_count": 13,
     "metadata": {},
     "output_type": "execute_result"
    }
   ],
   "source": [
    "len(dateTime)"
   ]
  }
 ],
 "metadata": {
  "kernelspec": {
   "display_name": "Python 3 (ipykernel)",
   "language": "python",
   "name": "python3"
  },
  "language_info": {
   "codemirror_mode": {
    "name": "ipython",
    "version": 3
   },
   "file_extension": ".py",
   "mimetype": "text/x-python",
   "name": "python",
   "nbconvert_exporter": "python",
   "pygments_lexer": "ipython3",
   "version": "3.8.13"
  }
 },
 "nbformat": 4,
 "nbformat_minor": 5
}
